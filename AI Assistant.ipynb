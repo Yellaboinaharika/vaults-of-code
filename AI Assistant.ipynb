{
 "cells": [
  {
   "cell_type": "code",
   "execution_count": 1,
   "id": "af6ac1ef-1432-497b-a60a-7eefdad42ef8",
   "metadata": {},
   "outputs": [
    {
     "name": "stdout",
     "output_type": "stream",
     "text": [
      "Requirement already satisfied: openai in c:\\users\\harika\\anaconda3\\lib\\site-packages (1.51.2)\n",
      "Requirement already satisfied: anyio<5,>=3.5.0 in c:\\users\\harika\\anaconda3\\lib\\site-packages (from openai) (4.2.0)\n",
      "Requirement already satisfied: distro<2,>=1.7.0 in c:\\users\\harika\\anaconda3\\lib\\site-packages (from openai) (1.8.0)\n",
      "Requirement already satisfied: httpx<1,>=0.23.0 in c:\\users\\harika\\anaconda3\\lib\\site-packages (from openai) (0.27.2)\n",
      "Requirement already satisfied: jiter<1,>=0.4.0 in c:\\users\\harika\\anaconda3\\lib\\site-packages (from openai) (0.6.1)\n",
      "Requirement already satisfied: pydantic<3,>=1.9.0 in c:\\users\\harika\\anaconda3\\lib\\site-packages (from openai) (1.10.12)\n",
      "Requirement already satisfied: sniffio in c:\\users\\harika\\anaconda3\\lib\\site-packages (from openai) (1.3.0)\n",
      "Requirement already satisfied: tqdm>4 in c:\\users\\harika\\anaconda3\\lib\\site-packages (from openai) (4.65.0)\n",
      "Requirement already satisfied: typing-extensions<5,>=4.11 in c:\\users\\harika\\anaconda3\\lib\\site-packages (from openai) (4.12.2)\n",
      "Requirement already satisfied: idna>=2.8 in c:\\users\\harika\\anaconda3\\lib\\site-packages (from anyio<5,>=3.5.0->openai) (3.4)\n",
      "Requirement already satisfied: certifi in c:\\users\\harika\\anaconda3\\lib\\site-packages (from httpx<1,>=0.23.0->openai) (2024.2.2)\n",
      "Requirement already satisfied: httpcore==1.* in c:\\users\\harika\\anaconda3\\lib\\site-packages (from httpx<1,>=0.23.0->openai) (1.0.6)\n",
      "Requirement already satisfied: h11<0.15,>=0.13 in c:\\users\\harika\\anaconda3\\lib\\site-packages (from httpcore==1.*->httpx<1,>=0.23.0->openai) (0.14.0)\n",
      "Requirement already satisfied: colorama in c:\\users\\harika\\anaconda3\\lib\\site-packages (from tqdm>4->openai) (0.4.6)\n",
      "Note: you may need to restart the kernel to use updated packages.\n"
     ]
    }
   ],
   "source": [
    "pip install openai "
   ]
  },
  {
   "cell_type": "code",
   "execution_count": 2,
   "id": "afc45fb1-1df9-4822-aa1e-4063738f16d4",
   "metadata": {},
   "outputs": [
    {
     "name": "stdout",
     "output_type": "stream",
     "text": [
      "Requirement already satisfied: openai in c:\\users\\harika\\anaconda3\\lib\\site-packages (1.51.2)\n",
      "Requirement already satisfied: flask in c:\\users\\harika\\anaconda3\\lib\\site-packages (2.2.5)\n",
      "Requirement already satisfied: anyio<5,>=3.5.0 in c:\\users\\harika\\anaconda3\\lib\\site-packages (from openai) (4.2.0)\n",
      "Requirement already satisfied: distro<2,>=1.7.0 in c:\\users\\harika\\anaconda3\\lib\\site-packages (from openai) (1.8.0)\n",
      "Requirement already satisfied: httpx<1,>=0.23.0 in c:\\users\\harika\\anaconda3\\lib\\site-packages (from openai) (0.27.2)\n",
      "Requirement already satisfied: jiter<1,>=0.4.0 in c:\\users\\harika\\anaconda3\\lib\\site-packages (from openai) (0.6.1)\n",
      "Requirement already satisfied: pydantic<3,>=1.9.0 in c:\\users\\harika\\anaconda3\\lib\\site-packages (from openai) (1.10.12)\n",
      "Requirement already satisfied: sniffio in c:\\users\\harika\\anaconda3\\lib\\site-packages (from openai) (1.3.0)\n",
      "Requirement already satisfied: tqdm>4 in c:\\users\\harika\\anaconda3\\lib\\site-packages (from openai) (4.65.0)\n",
      "Requirement already satisfied: typing-extensions<5,>=4.11 in c:\\users\\harika\\anaconda3\\lib\\site-packages (from openai) (4.12.2)\n",
      "Requirement already satisfied: Werkzeug>=2.2.2 in c:\\users\\harika\\anaconda3\\lib\\site-packages (from flask) (2.2.3)\n",
      "Requirement already satisfied: Jinja2>=3.0 in c:\\users\\harika\\anaconda3\\lib\\site-packages (from flask) (3.1.3)\n",
      "Requirement already satisfied: itsdangerous>=2.0 in c:\\users\\harika\\anaconda3\\lib\\site-packages (from flask) (2.0.1)\n",
      "Requirement already satisfied: click>=8.0 in c:\\users\\harika\\anaconda3\\lib\\site-packages (from flask) (8.1.7)\n",
      "Requirement already satisfied: idna>=2.8 in c:\\users\\harika\\anaconda3\\lib\\site-packages (from anyio<5,>=3.5.0->openai) (3.4)\n",
      "Requirement already satisfied: colorama in c:\\users\\harika\\anaconda3\\lib\\site-packages (from click>=8.0->flask) (0.4.6)\n",
      "Requirement already satisfied: certifi in c:\\users\\harika\\anaconda3\\lib\\site-packages (from httpx<1,>=0.23.0->openai) (2024.2.2)\n",
      "Requirement already satisfied: httpcore==1.* in c:\\users\\harika\\anaconda3\\lib\\site-packages (from httpx<1,>=0.23.0->openai) (1.0.6)\n",
      "Requirement already satisfied: h11<0.15,>=0.13 in c:\\users\\harika\\anaconda3\\lib\\site-packages (from httpcore==1.*->httpx<1,>=0.23.0->openai) (0.14.0)\n",
      "Requirement already satisfied: MarkupSafe>=2.0 in c:\\users\\harika\\anaconda3\\lib\\site-packages (from Jinja2>=3.0->flask) (2.1.3)\n",
      "Note: you may need to restart the kernel to use updated packages.\n"
     ]
    }
   ],
   "source": [
    "pip install openai flask"
   ]
  },
  {
   "cell_type": "code",
   "execution_count": null,
   "id": "d887e4eb-a77f-43c8-91ec-0646da0693bd",
   "metadata": {},
   "outputs": [
    {
     "name": "stdout",
     "output_type": "stream",
     "text": [
      "\n",
      "Welcome to your AI Assistant!\n",
      "1. Answer Questions\n",
      "2. Summarize Text\n",
      "3. Generate Creative Content\n",
      "4. Exit\n"
     ]
    },
    {
     "name": "stdin",
     "output_type": "stream",
     "text": [
      "Select an option (1/2/3/4):  1\n"
     ]
    }
   ],
   "source": [
    "import openai\n",
    "\n",
    "# Initialize OpenAI API with your API key\n",
    "openai.api_key = \"YOUR_API_KEY\"\n",
    "\n",
    "# Function to handle answering questions\n",
    "def answer_question(question):\n",
    "    prompt = f\"Answer the following question: {question}\"\n",
    "    response = openai.Completion.create(\n",
    "        engine=\"text-davinci-003\",\n",
    "        prompt=prompt,\n",
    "        max_tokens=300,\n",
    "        temperature=0.7\n",
    "    )\n",
    "    return response.choices[0].text.strip()\n",
    "\n",
    "# Function to handle summarizing text\n",
    "def summarize_text(text):\n",
    "    prompt = f\"Summarize the following text: {text}\"\n",
    "    response = openai.Completion.create(\n",
    "        engine=\"text-davinci-003\",\n",
    "        prompt=prompt,\n",
    "        max_tokens=150,\n",
    "        temperature=0.7\n",
    "    )\n",
    "    return response.choices[0].text.strip()\n",
    "\n",
    "# Function to generate creative content\n",
    "def generate_creative_content(prompt):\n",
    "    response = openai.Completion.create(\n",
    "        engine=\"text-davinci-003\",\n",
    "        prompt=prompt,\n",
    "        max_tokens=200,\n",
    "        temperature=0.8\n",
    "    )\n",
    "    return response.choices[0].text.strip()\n",
    "\n",
    "# Main function\n",
    "def main():\n",
    "    while True:\n",
    "        print(\"\\nWelcome to your AI Assistant!\")\n",
    "        print(\"1. Answer Questions\")\n",
    "        print(\"2. Summarize Text\")\n",
    "        print(\"3. Generate Creative Content\")\n",
    "        print(\"4. Exit\")\n",
    "        \n",
    "        choice = input(\"Select an option (1/2/3/4): \")\n",
    "\n",
    "        if choice == \"1\":\n",
    "            question = input(\"\\nEnter your question: \")\n",
    "            answer = answer_question(question)\n",
    "            print(f\"\\nAnswer: {answer}\")\n",
    "\n",
    "        elif choice == \"2\":\n",
    "            text = input(\"\\nEnter the text to summarize: \")\n",
    "            summary = summarize_text(text)\n",
    "            print(f\"\\nSummary: {summary}\")\n",
    "\n",
    "        elif choice == \"3\":\n",
    "            creative_prompt = input(\"\\nEnter a creative prompt (e.g., 'Write a story about a dragon'): \")\n",
    "            content = generate_creative_content(creative_prompt)\n",
    "            print(f\"\\nGenerated content: {content}\")\n",
    "\n",
    "        elif choice == \"4\":\n",
    "            print(\"Goodbye!\")\n",
    "            break\n",
    "\n",
    "        else:\n",
    "            print(\"Invalid option, please choose again.\")\n",
    "        \n",
    "        # Feedback mechanism\n",
    "        feedback = input(\"\\nWas this response helpful? (yes/no): \")\n",
    "        with open('feedback_log.txt', 'a') as f:\n",
    "            f.write(f\"Feedback: {feedback}, Query: {choice}\\n\")\n",
    "        print(\"\\nThank you for your feedback!\")\n",
    "\n",
    "if __name__ == \"__main__\":\n",
    "    main()\n"
   ]
  },
  {
   "cell_type": "code",
   "execution_count": null,
   "id": "15e18b62-2cf8-49fa-8ded-c1f7efc47f3e",
   "metadata": {},
   "outputs": [],
   "source": []
  }
 ],
 "metadata": {
  "kernelspec": {
   "display_name": "Python 3 (ipykernel)",
   "language": "python",
   "name": "python3"
  },
  "language_info": {
   "codemirror_mode": {
    "name": "ipython",
    "version": 3
   },
   "file_extension": ".py",
   "mimetype": "text/x-python",
   "name": "python",
   "nbconvert_exporter": "python",
   "pygments_lexer": "ipython3",
   "version": "3.11.7"
  }
 },
 "nbformat": 4,
 "nbformat_minor": 5
}
